{
  "nbformat": 4,
  "nbformat_minor": 0,
  "metadata": {
    "colab": {
      "name": "01_PerceptronTraining.ipynb",
      "provenance": [],
      "authorship_tag": "ABX9TyPLNjnAfjdglbVl54WGmfsH",
      "include_colab_link": true
    },
    "kernelspec": {
      "name": "python3",
      "display_name": "Python 3"
    },
    "language_info": {
      "name": "python"
    }
  },
  "cells": [
    {
      "cell_type": "markdown",
      "metadata": {
        "id": "view-in-github",
        "colab_type": "text"
      },
      "source": [
        "<a href=\"https://colab.research.google.com/github/harshitk-060/ML-now/blob/main/01_PerceptronTraining.ipynb\" target=\"_parent\"><img src=\"https://colab.research.google.com/assets/colab-badge.svg\" alt=\"Open In Colab\"/></a>"
      ]
    },
    {
      "cell_type": "code",
      "metadata": {
        "colab": {
          "base_uri": "https://localhost:8080/"
        },
        "id": "IlTlGXwGVZPH",
        "outputId": "5f2c2252-132a-47cd-e7b3-feccfa6e4689"
      },
      "source": [
        "print(\"Hello,World!\")"
      ],
      "execution_count": 1,
      "outputs": [
        {
          "output_type": "stream",
          "text": [
            "Hello,World!\n"
          ],
          "name": "stdout"
        }
      ]
    },
    {
      "cell_type": "code",
      "metadata": {
        "colab": {
          "base_uri": "https://localhost:8080/"
        },
        "id": "CHNV3ehuVq-m",
        "outputId": "cc04f8b8-6ee2-4926-c169-96d695bf2f6d"
      },
      "source": [
        "from google.colab import drive\n",
        "drive.mount ('/content/drive')"
      ],
      "execution_count": 2,
      "outputs": [
        {
          "output_type": "stream",
          "text": [
            "Mounted at /content/drive\n"
          ],
          "name": "stdout"
        }
      ]
    },
    {
      "cell_type": "markdown",
      "metadata": {
        "id": "GJZ2VK3DdDqo"
      },
      "source": [
        "#Problem_statement\n",
        "\n"
      ]
    },
    {
      "cell_type": "code",
      "metadata": {
        "colab": {
          "base_uri": "https://localhost:8080/"
        },
        "id": "o6WTYn5mbA_Z",
        "outputId": "b9406d71-cdd1-49ee-f9fe-0889cd409140"
      },
      "source": [
        "xTrain = [i for i in range (21)] #listcomprehension\n",
        "print(xTrain)"
      ],
      "execution_count": 3,
      "outputs": [
        {
          "output_type": "stream",
          "text": [
            "[0, 1, 2, 3, 4, 5, 6, 7, 8, 9, 10, 11, 12, 13, 14, 15, 16, 17, 18, 19, 20]\n"
          ],
          "name": "stdout"
        }
      ]
    },
    {
      "cell_type": "code",
      "metadata": {
        "colab": {
          "base_uri": "https://localhost:8080/"
        },
        "id": "ijyJrofoe5NX",
        "outputId": "927613d3-27ef-4f4d-b969-a4a9fb4af9c6"
      },
      "source": [
        "yTrain = [i for i in range(10*20+1) if i%10==0]\n",
        "print(yTrain)"
      ],
      "execution_count": 8,
      "outputs": [
        {
          "output_type": "stream",
          "text": [
            "[0, 10, 20, 30, 40, 50, 60, 70, 80, 90, 100, 110, 120, 130, 140, 150, 160, 170, 180, 190, 200]\n"
          ],
          "name": "stdout"
        }
      ]
    },
    {
      "cell_type": "markdown",
      "metadata": {
        "id": "C5PHQVZAg2Q5"
      },
      "source": [
        "Approach 1\n",
        "\n",
        " Defining a function for the equation 'y = 10'\n"
      ]
    },
    {
      "cell_type": "code",
      "metadata": {
        "id": "kdBqEocLhJ6E"
      },
      "source": [
        "def tableoften(x):\n",
        "  y = 10*x\n",
        "  return y\n"
      ],
      "execution_count": 10,
      "outputs": []
    },
    {
      "cell_type": "code",
      "metadata": {
        "id": "N9ZI_XUifIqI"
      },
      "source": [
        ""
      ],
      "execution_count": null,
      "outputs": []
    }
  ]
}